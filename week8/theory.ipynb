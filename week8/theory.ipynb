{
 "cells": [
  {
   "cell_type": "markdown",
   "metadata": {},
   "source": [
    "# Exercises Week 8"
   ]
  },
  {
   "cell_type": "markdown",
   "metadata": {},
   "source": [
    "## Exercise 1: AdaBoost and VC-dimension\n",
    "In this exericse, we will investigate the VC-dimension of voting classifiers and argue that one has to be careful with the number of iterations of boosting to guarantee good generalization performance with high probability.\n",
    "\n",
    "The data we will consider is one-dimensional, i.e. a single feature. Our weak learner is decision stumps, i.e. a base hypothesis $h$ can be specified by a splitting value $v$, and two leaf values $a, b \\in \\{-1,1\\}$. Given a one-dimensional feature vector $x = (x_1)$, the hypothesis $h$ returns $a$ when $x_1 \\leq v$ and it returns $b$ otherwise. We let $H$ denote the set of all such decision stumps, i.e. $H$ is the set of base hypotheses.\n",
    "\n",
    "### VC-dimension of base classifier\n",
    "1. Show that the VC-dimension of $H$ is $2$.\n",
    "\n",
    "### VC-dimension of voting classifiers\n",
    "Let $C$ be the class of all voting classifiers over $H$, i.e. $C$ consists of all hypotheses of the form:\n",
    "\n",
    "$$\n",
    "f(x) = \\textrm{sign}(\\sum_{h \\in H} \\alpha_h h(x))\n",
    "$$\n",
    "with $\\sum_{h \\in H} \\alpha_h = 1$ and $\\alpha_h \\geq 0$ for all $h$. We will show that $C$ has infinite VC-dimension. To do so, we will argue that for any size $n$, there is a set of $n$ points $x_1,\\dots,x_n$ in 1d that can be shattered, i.e. for any labeling $y \\in \\{-1,1\\}^n$ of the $n$ points, there is a hypothesis $g$ in $C$ such that $g(x_i)=y_i$ for all $i$. \n",
    "\n",
    "We will consider the simple point set $x_i = i$, i.e. $n$ evenly spaced points on the line. Let $y \\in \\{-1,1\\}^n$ be any labeling of the $n$ points. We need to show that there is a hypothesis $g \\in C$ that has $h(x_i)=y_i$ for all $i$. To do so, we will use the fact from the lecture that if our base learner guarantees that there is some $\\gamma > 0$, such that for every probability distribution $D$ over $x_1,\\dots,x_n$, the base learner produces a hypothesis $h \\in H$ such that the weighted $0-1$ loss satisfies $L_D(h) = \\sum_{i=1}^n D(i)1_{h(x_i) \\neq y_i} \\leq 1/2-\\gamma$, then running AdaBoost for $(\\ln n)/(2 \\gamma^2)$ iterations produces a voting classifier $f$ with $0$ error on $x_1,\\dots,x_n$.\n",
    "1. Assume we have some probability distribution $D$ over $x_1,\\dots,x_n$ and assume that there is a hypothesis $h \\in H$ with $L_D(h) \\leq 1/2-\\gamma$. Show how to modify the algorithm from the Decision Tree lecture that computes decision stumps, such that it is guaranteed to output a hypothesis $h'$ with $L_D(h') \\leq 1/2-\\gamma$.\n",
    "2. Argue that for any probability distribution $D$ over $x_1,\\dots,x_n$, there is a hypothesis $h \\in H$ with $L_D(h) \\leq 1/2 - 1/(2n)$. Hint: Consider hypotheses where the splitting point is right before and right after the point $x_i$ with largest probability $D(i)$.\n",
    "3. Use the above to conclude that there is a hypothesis $g \\in C$ with $g(x_i) = y_i$ for all $i$."
   ]
  },
  {
   "cell_type": "markdown",
   "metadata": {},
   "source": [
    "# VC-dimension of base classifier\n",
    "\n",
    "We can shatter all 4 combinations of 2 points by the following strategy:\n",
    "\n",
    "let $\\alpha, \\beta$ be the two points given.\n",
    "Let $l(p)$ be the label of a point $p$.\n",
    "\n",
    "Choose $v = (\\alpha_1 + \\beta_1) / 2$. \n",
    "Choose $a=l(\\alpha)$.\n",
    "Choose $b=l(\\beta)$.\n",
    "\n",
    "It is trivial that this works.\n",
    "\n",
    "We cannot shatter 3 points.\n",
    "Let $\\alpha, \\beta, \\gamma$ be the three points. \n",
    "Assume wlog that $\\alpha < \\beta < \\gamma$.\n",
    "\n",
    "the case where $l(\\alpha) = l(\\gamma)$ and $l(\\alpha) \\neq l(\\beta)$ cannot be classified correctly, so we cannot shatter 3 points.\n",
    "\n",
    "Thus the VC dimension is 2.\n",
    "\n",
    "# bullet 1\n",
    "\n",
    "split at the leftmost point (leaving all points on the right-hand side of the split), and let $b$ be whichever point is in the majority on that side. \n",
    "In the worst case, we have have that this misclassifies half, yielding $L_D(h)=1/2$. \n",
    "This means that half the points on the right-hand side of the split are of the other category.\n",
    "now, move the split to the right of the left-most point.\n",
    "if this point were misclassified on the right-hand side, choose $a=-b$ and we are done.\n",
    "If this point is not misclassified, then choose b to be the opposite of what it were and let $a=-b$.\n",
    "In either case, we have that $L_D(h)=1/2-\\gamma$.\n",
    "\n",
    "# bullet 2\n",
    "\n",
    "Same argument as above, only we notice that the one point we correctly classify contributes $1/(2n)$ to the error, thus $\\gamma=1/(2n)$. ???\n",
    "\n",
    "# bullet 3\n",
    "\n"
   ]
  },
  {
   "cell_type": "markdown",
   "metadata": {},
   "source": [
    "## Exercise 2: Implementing AdaBoost\n",
    "In this exercise your task is to implement AdaBoost as described in the lecture and the Boosting note.\n",
    "We have provided starter code in adaboost.py. See the boosting note for a description of the algorithm.\n",
    "\n",
    "You must implement the methods\n",
    "- ensemble_output\n",
    "- exp_loss\n",
    "- predict\n",
    "- score\n",
    "- fit\n",
    "\n",
    "in that order\n",
    "\n",
    "To test your implementation, run adaboost.py\n",
    "\n",
    "You should get a final accuracy of around 0.886\n",
    "\n"
   ]
  },
  {
   "cell_type": "markdown",
   "metadata": {},
   "source": [
    "## Exercise 3: Gradient Boosting by Hand\n",
    "In this exercise you must complete one step of gradient boosting with exponential loss on a small data set (X, y) as shown below. The exponential loss is $L(h(x),y) = e^{-yh(x)}$.\n",
    "\n",
    "$X = [1,2,5,3,4]$\n",
    "\n",
    "$y = [1,1,1,-1, -1]$\n",
    "\n",
    "Assume that we initialize our ensemble model with the constant function $h(x) = 1$\n",
    "\n",
    "\n",
    "**Your task requires the following three steps** \n",
    "1. Compute the residuals the regression tree should fit (with least squares)\n",
    "2. Construct the Regression Stump found by fitting the negative gradient\n",
    "3. Optimize the leaf values such that the newly added tree minimize the exponential loss, with the condition that the number the leaf returns is in the interval [-1, 1].\n",
    "   What happens if we do not have this constraint that the leaf must return values in [-1, 1]?\n"
   ]
  },
  {
   "cell_type": "markdown",
   "metadata": {},
   "source": [
    "## Exercise 4: Implementing Gradient Boosting\n",
    "In this exercise your task is to implement the Gradient Boosting algorithm for regression using Least Squares Loss.\n",
    "We have provided starter code in **gradientboost.py**. \n",
    "\n",
    "You must implement the methods\n",
    "- predict\n",
    "- score\n",
    "- fit\n",
    "\n",
    "in that order.\n",
    "\n",
    "\n",
    "Notice that fit gets two sets of data and labels X, y and X_val, y_val.\n",
    "The latter X_val, y_val is a separate validation test set you must test your current ensemble on in each iteration so we can plot the development on data not used for training.\n",
    "\n",
    "To test your implementation, run gradientboost.py -max_depth 1\n",
    "\n",
    "You can provide different max_depth of the base learner which is a Regression Tree (1 is default).\n",
    "\n",
    "With a default base learner with max depth 1 the mean least squares error on both training and test data should be around 0.35. \n",
    "If you change random state then the results may be different.\n",
    "\n",
    "If you increase the max_depth the results will change.  Try for instance max_depth 3 and 5 as well. What do you see?\n",
    "\n",
    "\n",
    "\n"
   ]
  },
  {
   "cell_type": "code",
   "execution_count": null,
   "metadata": {},
   "outputs": [],
   "source": []
  }
 ],
 "metadata": {
  "kernelspec": {
   "display_name": "Python 3",
   "language": "python",
   "name": "python3"
  },
  "language_info": {
   "codemirror_mode": {
    "name": "ipython",
    "version": 3
   },
   "file_extension": ".py",
   "mimetype": "text/x-python",
   "name": "python",
   "nbconvert_exporter": "python",
   "pygments_lexer": "ipython3",
   "version": "3.8.5"
  }
 },
 "nbformat": 4,
 "nbformat_minor": 2
}
